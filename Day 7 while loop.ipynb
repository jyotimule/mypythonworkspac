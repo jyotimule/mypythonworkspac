{
 "cells": [
  {
   "cell_type": "code",
   "execution_count": 1,
   "id": "63de5d23",
   "metadata": {},
   "outputs": [
    {
     "name": "stdout",
     "output_type": "stream",
     "text": [
      "1500\n"
     ]
    }
   ],
   "source": [
    "# while loop : write  \n",
    "\n",
    "element = [100, 200, 300, 400, 500]\n",
    "index = 0\n",
    "prod = 0\n",
    "\n",
    "while(index < len(element)):\n",
    "    prod = prod + element[index]\n",
    "    index = index + 1\n",
    "print(prod)\n",
    "\n",
    "\n"
   ]
  },
  {
   "cell_type": "code",
   "execution_count": 1,
   "id": "cdc6f28e",
   "metadata": {},
   "outputs": [
    {
     "ename": "IndentationError",
     "evalue": "expected an indented block (2692401337.py, line 17)",
     "output_type": "error",
     "traceback": [
      "\u001b[1;36m  Input \u001b[1;32mIn [1]\u001b[1;36m\u001b[0m\n\u001b[1;33m    \u001b[0m\n\u001b[1;37m    ^\u001b[0m\n\u001b[1;31mIndentationError\u001b[0m\u001b[1;31m:\u001b[0m expected an indented block\n"
     ]
    }
   ],
   "source": [
    "# write a program to check prime numbers,\n",
    "# prime number: A number which can be divided by 1 or itself\n",
    "\n",
    "#1 is not a prime number\n",
    "# prime num = 2,3,5,7,11,\n",
    "\n",
    "\n",
    "num1 = int(input(\"Enter the num1:\"))\n",
    "num2 = int(input(\"enter the num2:\"))\n",
    "\n",
    "print(\"Check the prrime num b/w {} and {}\".format(num1,num2))\n",
    "for n in range(num1,num2+1):\n",
    "    if(n > 1):\n",
    "        check = False\n",
    "        \n",
    "        for item in range(2,n):\n",
    "            \n",
    "            \n"
   ]
  },
  {
   "cell_type": "code",
   "execution_count": null,
   "id": "e9c0296b",
   "metadata": {},
   "outputs": [],
   "source": []
  }
 ],
 "metadata": {
  "kernelspec": {
   "display_name": "Python 3 (ipykernel)",
   "language": "python",
   "name": "python3"
  },
  "language_info": {
   "codemirror_mode": {
    "name": "ipython",
    "version": 3
   },
   "file_extension": ".py",
   "mimetype": "text/x-python",
   "name": "python",
   "nbconvert_exporter": "python",
   "pygments_lexer": "ipython3",
   "version": "3.9.12"
  }
 },
 "nbformat": 4,
 "nbformat_minor": 5
}
